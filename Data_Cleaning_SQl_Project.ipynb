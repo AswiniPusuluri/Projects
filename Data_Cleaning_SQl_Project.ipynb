{
 "cells": [
  {
   "cell_type": "code",
   "execution_count": null,
   "metadata": {},
   "outputs": [],
   "source": [
    "import pandas as pd\n",
    "from random import sample\n",
    "crime_data=pd.read_csv('Crime_Data_from_2020_to_Present.csv')\n",
    "crime_data.head()\n"
   ]
  },
  {
   "cell_type": "markdown",
   "metadata": {},
   "source": [
    "Checking missing values percentage"
   ]
  },
  {
   "cell_type": "code",
   "execution_count": null,
   "metadata": {},
   "outputs": [],
   "source": [
    "(crime_data.isnull().sum())"
   ]
  },
  {
   "cell_type": "markdown",
   "metadata": {},
   "source": [
    "Droping the data with null values"
   ]
  },
  {
   "cell_type": "code",
   "execution_count": null,
   "metadata": {},
   "outputs": [],
   "source": [
    "crime_data.dropna(subset=['Vict_Descent', 'Vict_Sex', 'Premis_Desc'],inplace=True)\n"
   ]
  },
  {
   "cell_type": "markdown",
   "metadata": {},
   "source": [
    "Filling the values instead of remove them so that some crimes that don't have all the information will not be discarded"
   ]
  },
  {
   "cell_type": "code",
   "execution_count": null,
   "metadata": {},
   "outputs": [],
   "source": [
    "crime_data= crime_data.fillna(value='N/A')\n",
    "crime_data"
   ]
  },
  {
   "cell_type": "markdown",
   "metadata": {},
   "source": [
    "Deleting below columns as they are duplicates of Crime_Code"
   ]
  },
  {
   "cell_type": "code",
   "execution_count": null,
   "metadata": {},
   "outputs": [],
   "source": [
    "crime_data_1 = crime_data.drop(['Crm_Cd1','Crm_Cd2','Crm_Cd3','Crm_Cd4'],axis=1)\n",
    "crime_data_1"
   ]
  },
  {
   "cell_type": "markdown",
   "metadata": {},
   "source": [
    "Changing column names"
   ]
  },
  {
   "cell_type": "code",
   "execution_count": null,
   "metadata": {},
   "outputs": [],
   "source": [
    "crime_data_1.columns = ('DR_Number','Date_Reported','Date_Occurred','Time_Occurred','Area_ID','Area_Name','Reporting_District_Num','Priority_Code','Crime_Code','Crime_Code_Description','MO_Codes','Victim_Age','Victim_Sex','Victim Descent','Premise_Code','Premise_Description','Weapon_Used_Code','Weapon_Description','Status_Code','Status_Description','Crime_Address','Cross_Street','Latitude','Longitude')\n",
    "crime_data_1"
   ]
  },
  {
   "cell_type": "markdown",
   "metadata": {},
   "source": [
    "Converting Date_Occurred and Date_Reported columns to date format"
   ]
  },
  {
   "cell_type": "code",
   "execution_count": null,
   "metadata": {},
   "outputs": [],
   "source": [
    "crime_data_1['Date_Occurred'] = pd.to_datetime(crime_data_1['Date_Occurred'])\n",
    "crime_data_1['Date_Reported'] = pd.to_datetime(crime_data_1['Date_Reported'])\n",
    "print(crime_data_1)"
   ]
  },
  {
   "cell_type": "code",
   "execution_count": null,
   "metadata": {},
   "outputs": [],
   "source": [
    "crime_data_2=crime_data_1.sample(n = 800)\n",
    "crime_data_2"
   ]
  },
  {
   "cell_type": "markdown",
   "metadata": {},
   "source": [
    "Crime Data for year 2019"
   ]
  },
  {
   "cell_type": "code",
   "execution_count": null,
   "metadata": {},
   "outputs": [],
   "source": [
    "crimedata_2019=pd.read_csv('Crime_Data_2019.csv')\n",
    "crimedata_2019.head()"
   ]
  },
  {
   "cell_type": "code",
   "execution_count": null,
   "metadata": {},
   "outputs": [],
   "source": [
    "crimedata_2019_1 = crimedata_2019.drop(['Crm_Cd1','Crm_Cd2','Crm_Cd3','Crm_Cd4'],axis=1)\n",
    "crimedata_2019_1"
   ]
  },
  {
   "cell_type": "code",
   "execution_count": null,
   "metadata": {},
   "outputs": [],
   "source": [
    "crimedata_2019_1.columns = ('DR_Number','Date_Reported','Date_Occurred','Time_Occurred','Area_ID','Area_Name','Reporting_District_Num','Priority_Code','Crime_Code','Crime_Code_Description','MO_Codes','Victim_Age','Victim_Sex','Victim Descent','Premise_Code','Premise_Description','Weapon_Used_Code','Weapon_Description','Status_Code','Status_Description','Crime_Address','Cross_Street','Latitude','Longitude')\n",
    "crimedata_2019_1"
   ]
  },
  {
   "cell_type": "code",
   "execution_count": null,
   "metadata": {},
   "outputs": [],
   "source": [
    "(crimedata_2019_1.isnull().sum())"
   ]
  },
  {
   "cell_type": "code",
   "execution_count": null,
   "metadata": {},
   "outputs": [],
   "source": [
    "crimedata_2019_1.dropna(subset=['Victim Descent', 'Victim_Sex', 'Premise_Description'],inplace=True)\n"
   ]
  },
  {
   "cell_type": "code",
   "execution_count": null,
   "metadata": {},
   "outputs": [],
   "source": [
    "crimedata_2019_1=crimedata_2019_1.fillna(value='N/A')\n",
    "crimedata_2019_1"
   ]
  },
  {
   "cell_type": "code",
   "execution_count": null,
   "metadata": {},
   "outputs": [],
   "source": [
    "crimedata_2019_1['Date_Occurred'] = pd.to_datetime(crimedata_2019_1['Date_Occurred'])\n",
    "crimedata_2019_1['Date_Reported'] = pd.to_datetime(crimedata_2019_1['Date_Reported'])"
   ]
  },
  {
   "cell_type": "code",
   "execution_count": null,
   "metadata": {},
   "outputs": [],
   "source": [
    "crimedata_2019_2=crimedata_2019_1.sample(n = 800)\n",
    "crimedata_2019_2"
   ]
  },
  {
   "cell_type": "markdown",
   "metadata": {},
   "source": [
    "Merging both (2019) and (2020 to present) datasets"
   ]
  },
  {
   "cell_type": "code",
   "execution_count": null,
   "metadata": {},
   "outputs": [],
   "source": [
    "frames = [crime_data_2, crimedata_2019_2]\n",
    "frames\n",
    "result = pd.concat(frames)\n",
    "result.head()\n"
   ]
  },
  {
   "cell_type": "code",
   "execution_count": null,
   "metadata": {},
   "outputs": [],
   "source": [
    "result.tail()"
   ]
  },
  {
   "cell_type": "code",
   "execution_count": null,
   "metadata": {},
   "outputs": [],
   "source": [
    "result.describe()"
   ]
  },
  {
   "cell_type": "code",
   "execution_count": null,
   "metadata": {},
   "outputs": [],
   "source": [
    "result.drop(result[result['Victim_Age'] < 1].index, axis=0, inplace=True)"
   ]
  },
  {
   "cell_type": "code",
   "execution_count": null,
   "metadata": {},
   "outputs": [],
   "source": [
    "result.to_csv('LA_CrimeData.csv')"
   ]
  },
  {
   "cell_type": "code",
   "execution_count": null,
   "metadata": {},
   "outputs": [],
   "source": [
    "result.describe()"
   ]
  },
  {
   "cell_type": "code",
   "execution_count": null,
   "metadata": {},
   "outputs": [],
   "source": [
    "result"
   ]
  },
  {
   "cell_type": "code",
   "execution_count": null,
   "metadata": {},
   "outputs": [],
   "source": []
  }
 ],
 "metadata": {
  "kernelspec": {
   "display_name": "Python 3",
   "language": "python",
   "name": "python3"
  },
  "language_info": {
   "codemirror_mode": {
    "name": "ipython",
    "version": 3
   },
   "file_extension": ".py",
   "mimetype": "text/x-python",
   "name": "python",
   "nbconvert_exporter": "python",
   "pygments_lexer": "ipython3",
   "version": "3.8.5"
  }
 },
 "nbformat": 4,
 "nbformat_minor": 4
}
